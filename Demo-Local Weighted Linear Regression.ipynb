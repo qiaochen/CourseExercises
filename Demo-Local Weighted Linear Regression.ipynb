{
 "cells": [
  {
   "cell_type": "code",
   "execution_count": 1,
   "metadata": {},
   "outputs": [],
   "source": [
    "import pandas as pd\n",
    "import numpy as np\n",
    "from lwlr import LWLR, search_best_k"
   ]
  },
  {
   "cell_type": "code",
   "execution_count": 2,
   "metadata": {},
   "outputs": [
    {
     "name": "stdout",
     "output_type": "stream",
     "text": [
      "{'k': 0.001, 'avg_train_score': -1.5030122497841244e-05, 'avg_test_score': -1.53510809319979e-05}\n",
      "{'k': 0.005, 'avg_train_score': -1.514672486133963e-05, 'avg_test_score': -1.5229408761940167e-05}\n",
      "{'k': 0.01, 'avg_train_score': -1.5154882389450889e-05, 'avg_test_score': -1.5215595551371713e-05}\n",
      "{'k': 0.05, 'avg_train_score': -1.5159634001048807e-05, 'avg_test_score': -1.5203789589781138e-05}\n",
      "{'k': 0.5, 'avg_train_score': -1.5552132994676442e-05, 'avg_test_score': -1.5584310264257634e-05}\n",
      "{'k': 0.1, 'avg_train_score': -1.516039012535135e-05, 'avg_test_score': -1.5202182343517196e-05}\n",
      "{'k': 1, 'avg_train_score': -1.5934879745636047e-05, 'avg_test_score': -1.5964237250593833e-05}\n",
      "Best K: 0.1\n"
     ]
    }
   ],
   "source": [
    "train_data = pd.read_csv('height_train.csv')\n",
    "test_data = pd.read_csv(\"height_test.csv\")\n",
    "train_X, train_y = train_data.loc[:,['father_height','mother_height','boy_dummy']].values, train_data.child_height.values,\n",
    "test_X = test_data.loc[:,['father_height','mother_height','boy_dummy']].values\n",
    "k_range = [1e-3, 5e-3, 1e-2, 5e-2, 5e-1, 1e-1, 1]\n",
    "best_k, df_cv_res = search_best_k(train_X, train_y, k_range=k_range, scoring=\"neg_mean_squared_log_error\")\n",
    "print(\"Best K: {}\".format(best_k))\n",
    "\n",
    "lwlr = LWLR(k=best_k).fit(train_X, train_y)\n",
    "predictions = lwlr.predict(test_X)\n",
    "test_data['child_height'] = predictions\n",
    "test_data.to_csv(\"lwlr_res.csv\", index=False)"
   ]
  },
  {
   "cell_type": "code",
   "execution_count": null,
   "metadata": {},
   "outputs": [],
   "source": []
  }
 ],
 "metadata": {
  "kernelspec": {
   "display_name": "Python 3",
   "language": "python",
   "name": "python3"
  },
  "language_info": {
   "codemirror_mode": {
    "name": "ipython",
    "version": 3
   },
   "file_extension": ".py",
   "mimetype": "text/x-python",
   "name": "python",
   "nbconvert_exporter": "python",
   "pygments_lexer": "ipython3",
   "version": "3.6.9"
  }
 },
 "nbformat": 4,
 "nbformat_minor": 2
}
